{
 "cells": [
  {
   "cell_type": "markdown",
   "metadata": {},
   "source": [
    "# Project: Investigate a Dataset - [FBI GUN DATA]\n",
    "\n",
    "## Table of Contents\n",
    "<ul>\n",
    "<li><a href=\"#intro\">Introduction</a></li>\n",
    "<li><a href=\"#wrangling\">Data Wrangling</a></li>\n",
    "<li><a href=\"#eda\">Exploratory Data Analysis</a></li>\n",
    "<li><a href=\"#conclusions\">Conclusions</a></li>\n",
    "</ul>"
   ]
  },
  {
   "cell_type": "markdown",
   "metadata": {},
   "source": [
    "<a id='intro'></a>\n",
    "## Introduction\n",
    "\n",
    "### Dataset Description \n",
    "\n",
    "> This project seeks to investigate the FBI GUN DATA which comes form the FBI's National Instant Criminal Background Check System The NICS is used by to determine whether a prospective buyer is eligible to buy firearms or explosives. Gun shops call into this system to ensure that each customer does not have a criminal record or isn’t otherwise ineligible to make a purchase. The data has been supplemented with state level data from [census.gov](https://www.google.com/url?q=https://www.census.gov/&sa=D&source=editors&ust=1653747504318060&usg=AOvVaw0Zcfuo2zsn8-Jc91qD5cw2/pub?embedded=True). The NICS data is found in one sheet of an .xlsx file. It contains the number of firearm checks by month, state, and type.\n",
    "The U.S. census data is found in a .csv file. It contains several variables at the state level. Most variables just have one data point per state (2016), but a few have data for more than one year.\n",
    "## List of column names in gun_data Dataset\n",
    "- Month: Months starting from 2017-09 to 1998-11\n",
    "- state: List 55 unique states\n",
    "- permit: Number of gun permits\n",
    "- permit_recheck: Number of permit recheck\n",
    "- handgun: a firearm which has a short stock, designed to be held and fired by the use of a single hand\n",
    "- long_gun: category of firearms with long barrels.\n",
    "- other: other type of gun\n",
    "- multiple: person with mutiple gun types\n",
    "- admin: amdinistration\n",
    "- prepawn_handgun: Number of handgun types prepawned\n",
    "- prepawn_long_gun: Number of long gun types prepawned\n",
    "- prepawn_other: Number of other gun types prepawned\n",
    "- redemption_handgun: Number of redeemed hand guns redeemed\n",
    "- redemption_long_gun: Number of redeemed long guns redeemed\n",
    "- redemption_other: Number of other gun types redeemed\n",
    "- returned_handgun: number of handgun types returned\n",
    "- returned_long_gun: number of long gun types returned\n",
    "- returned_other: number of other gun types returned\n",
    "- rentals_handgun: number of rentals of handgun\n",
    "- rentals_long_gun: number of rentals of long gun\n",
    "- private_sale_handgun: number of private sales of handgun\n",
    "- private_sale_long_gun: number of private sales of long gun\n",
    "- private_sale_other: private sales of other gun types\n",
    "- return_to_seller_handgun: handguns returned to a seller\n",
    "- return_to_seller_long_gun: Long guns returend to a seller\n",
    "- return_to_seller_other: other guns that were returned to a seller\n",
    "- totals: total number of column values( guns, permit and all)\n",
    "\n",
    "## List of column names in Census_data Dataset\n",
    "This data set columns is made up of fact note and 50 states\n",
    "\n",
    "- Fact Note: gives a description or note on a particular row of data\n",
    "- 50 columns listing 50 states\n",
    "\n",
    "## Description of  the relationship between tables\n",
    "The gun data and census data are related by states, census data contains population for a particular period which relates to gun data statistic in the gun data column\n",
    "\n",
    "\n",
    "## Questions to be explored over the course of this report.\n",
    "<ul>\n",
    "<li>Which state has the highest category of each variable (e.g highest permit, handguns, private_long_gun e.t.c ?</li>\n",
    "<li>What census data is most associated with high gun per capita?</li>\n",
    "<li>What is the overall trend of gun purchases?</li>\n",
    "</ul>"
   ]
  },
  {
   "cell_type": "code",
   "execution_count": 1,
   "metadata": {},
   "outputs": [],
   "source": [
    "#we begin our process by importing the relevant package.\n",
    "import numpy as np\n",
    "import pandas as pd\n",
    "import matplotlib.pyplot as plt\n",
    "import seaborn as sns\n",
    "% matplotlib inline\n",
    "\n"
   ]
  },
  {
   "cell_type": "code",
   "execution_count": 2,
   "metadata": {},
   "outputs": [],
   "source": [
    "# Upgrade pandas to use dataframe.explode() function. \n",
    "#!pip install --upgrade pandas==0.25.0"
   ]
  },
  {
   "cell_type": "markdown",
   "metadata": {},
   "source": [
    "<a id='wrangling'></a>\n",
    "## Data Wrangling\n",
    "\n",
    "> **Tip**: In this section of the report, you will load in the data, check for cleanliness, and then trim and clean your dataset for analysis. Make sure that you **document your data cleaning steps in mark-down cells precisely and justify your cleaning decisions.**\n",
    "\n",
    "\n",
    "### General Properties\n",
    "> **Tip**: You should _not_ perform too many operations in each cell. Create cells freely to explore your data. One option that you can take with this project is to do a lot of explorations in an initial notebook. These don't have to be organized, but make sure you use enough comments to understand the purpose of each code cell. Then, after you're done with your analysis, create a duplicate notebook where you will trim the excess and organize your steps so that you have a flowing, cohesive report."
   ]
  },
  {
   "cell_type": "code",
   "execution_count": 3,
   "metadata": {},
   "outputs": [],
   "source": [
    "#Reading both gun_data( in excel format) and census data( in csv format)\n",
    "gun_data=pd.read_excel('gun_data.xlsx')\n",
    "census_data=pd.read_csv('US_census_data.csv', sep=',')"
   ]
  },
  {
   "cell_type": "markdown",
   "metadata": {},
   "source": [
    "## Data cleaning steps\n",
    "<p>previewed the gun_data dataset using gun_data.head()>/p>\n",
    "<p>inspected the number of rows and colums using gun_data.shape. gun_data set has 12485 rows and 27 columns</p>\n",
    "<p>previewed the gun_data dataset using gun_data.info() to check for null values and data types info (month is in string and needs to be converted to data_time format.</p>\n",
    "<p>gun_data.dtypes shows month column is in string and needs to be converted to data_time</p>"
   ]
  },
  {
   "cell_type": "markdown",
   "metadata": {},
   "source": [
    "### Let's begin with our gun data dataset first"
   ]
  },
  {
   "cell_type": "code",
   "execution_count": 4,
   "metadata": {},
   "outputs": [
    {
     "data": {
      "text/html": [
       "<div>\n",
       "<style scoped>\n",
       "    .dataframe tbody tr th:only-of-type {\n",
       "        vertical-align: middle;\n",
       "    }\n",
       "\n",
       "    .dataframe tbody tr th {\n",
       "        vertical-align: top;\n",
       "    }\n",
       "\n",
       "    .dataframe thead th {\n",
       "        text-align: right;\n",
       "    }\n",
       "</style>\n",
       "<table border=\"1\" class=\"dataframe\">\n",
       "  <thead>\n",
       "    <tr style=\"text-align: right;\">\n",
       "      <th></th>\n",
       "      <th>month</th>\n",
       "      <th>state</th>\n",
       "      <th>permit</th>\n",
       "      <th>permit_recheck</th>\n",
       "      <th>handgun</th>\n",
       "      <th>long_gun</th>\n",
       "      <th>other</th>\n",
       "      <th>multiple</th>\n",
       "      <th>admin</th>\n",
       "      <th>prepawn_handgun</th>\n",
       "      <th>...</th>\n",
       "      <th>returned_other</th>\n",
       "      <th>rentals_handgun</th>\n",
       "      <th>rentals_long_gun</th>\n",
       "      <th>private_sale_handgun</th>\n",
       "      <th>private_sale_long_gun</th>\n",
       "      <th>private_sale_other</th>\n",
       "      <th>return_to_seller_handgun</th>\n",
       "      <th>return_to_seller_long_gun</th>\n",
       "      <th>return_to_seller_other</th>\n",
       "      <th>totals</th>\n",
       "    </tr>\n",
       "  </thead>\n",
       "  <tbody>\n",
       "    <tr>\n",
       "      <th>0</th>\n",
       "      <td>2017-09</td>\n",
       "      <td>Alabama</td>\n",
       "      <td>16717.0</td>\n",
       "      <td>0.0</td>\n",
       "      <td>5734.0</td>\n",
       "      <td>6320.0</td>\n",
       "      <td>221.0</td>\n",
       "      <td>317</td>\n",
       "      <td>0.0</td>\n",
       "      <td>15.0</td>\n",
       "      <td>...</td>\n",
       "      <td>0.0</td>\n",
       "      <td>0.0</td>\n",
       "      <td>0.0</td>\n",
       "      <td>9.0</td>\n",
       "      <td>16.0</td>\n",
       "      <td>3.0</td>\n",
       "      <td>0.0</td>\n",
       "      <td>0.0</td>\n",
       "      <td>3.0</td>\n",
       "      <td>32019</td>\n",
       "    </tr>\n",
       "    <tr>\n",
       "      <th>1</th>\n",
       "      <td>2017-09</td>\n",
       "      <td>Alaska</td>\n",
       "      <td>209.0</td>\n",
       "      <td>2.0</td>\n",
       "      <td>2320.0</td>\n",
       "      <td>2930.0</td>\n",
       "      <td>219.0</td>\n",
       "      <td>160</td>\n",
       "      <td>0.0</td>\n",
       "      <td>5.0</td>\n",
       "      <td>...</td>\n",
       "      <td>0.0</td>\n",
       "      <td>0.0</td>\n",
       "      <td>0.0</td>\n",
       "      <td>17.0</td>\n",
       "      <td>24.0</td>\n",
       "      <td>1.0</td>\n",
       "      <td>0.0</td>\n",
       "      <td>0.0</td>\n",
       "      <td>0.0</td>\n",
       "      <td>6303</td>\n",
       "    </tr>\n",
       "    <tr>\n",
       "      <th>2</th>\n",
       "      <td>2017-09</td>\n",
       "      <td>Arizona</td>\n",
       "      <td>5069.0</td>\n",
       "      <td>382.0</td>\n",
       "      <td>11063.0</td>\n",
       "      <td>7946.0</td>\n",
       "      <td>920.0</td>\n",
       "      <td>631</td>\n",
       "      <td>0.0</td>\n",
       "      <td>13.0</td>\n",
       "      <td>...</td>\n",
       "      <td>0.0</td>\n",
       "      <td>0.0</td>\n",
       "      <td>0.0</td>\n",
       "      <td>38.0</td>\n",
       "      <td>12.0</td>\n",
       "      <td>2.0</td>\n",
       "      <td>0.0</td>\n",
       "      <td>0.0</td>\n",
       "      <td>0.0</td>\n",
       "      <td>28394</td>\n",
       "    </tr>\n",
       "  </tbody>\n",
       "</table>\n",
       "<p>3 rows × 27 columns</p>\n",
       "</div>"
      ],
      "text/plain": [
       "     month    state   permit  permit_recheck  handgun  long_gun  other  \\\n",
       "0  2017-09  Alabama  16717.0             0.0   5734.0    6320.0  221.0   \n",
       "1  2017-09   Alaska    209.0             2.0   2320.0    2930.0  219.0   \n",
       "2  2017-09  Arizona   5069.0           382.0  11063.0    7946.0  920.0   \n",
       "\n",
       "   multiple  admin  prepawn_handgun   ...    returned_other  rentals_handgun  \\\n",
       "0       317    0.0             15.0   ...               0.0              0.0   \n",
       "1       160    0.0              5.0   ...               0.0              0.0   \n",
       "2       631    0.0             13.0   ...               0.0              0.0   \n",
       "\n",
       "   rentals_long_gun  private_sale_handgun  private_sale_long_gun  \\\n",
       "0               0.0                   9.0                   16.0   \n",
       "1               0.0                  17.0                   24.0   \n",
       "2               0.0                  38.0                   12.0   \n",
       "\n",
       "   private_sale_other  return_to_seller_handgun  return_to_seller_long_gun  \\\n",
       "0                 3.0                       0.0                        0.0   \n",
       "1                 1.0                       0.0                        0.0   \n",
       "2                 2.0                       0.0                        0.0   \n",
       "\n",
       "   return_to_seller_other  totals  \n",
       "0                     3.0   32019  \n",
       "1                     0.0    6303  \n",
       "2                     0.0   28394  \n",
       "\n",
       "[3 rows x 27 columns]"
      ]
     },
     "execution_count": 4,
     "metadata": {},
     "output_type": "execute_result"
    }
   ],
   "source": [
    "#inspecting the gun_data dataset by previewing the first 3 samples\n",
    "gun_data.head(3)"
   ]
  },
  {
   "cell_type": "code",
   "execution_count": 5,
   "metadata": {},
   "outputs": [
    {
     "data": {
      "text/plain": [
       "(12485, 27)"
      ]
     },
     "execution_count": 5,
     "metadata": {},
     "output_type": "execute_result"
    }
   ],
   "source": [
    "#inspecting using shape and we have 12485 rows and 27 columns in gun_data set\n",
    "gun_data.shape"
   ]
  },
  {
   "cell_type": "code",
   "execution_count": 6,
   "metadata": {},
   "outputs": [
    {
     "name": "stdout",
     "output_type": "stream",
     "text": [
      "<class 'pandas.core.frame.DataFrame'>\n",
      "RangeIndex: 12485 entries, 0 to 12484\n",
      "Data columns (total 27 columns):\n",
      "month                        12485 non-null object\n",
      "state                        12485 non-null object\n",
      "permit                       12461 non-null float64\n",
      "permit_recheck               1100 non-null float64\n",
      "handgun                      12465 non-null float64\n",
      "long_gun                     12466 non-null float64\n",
      "other                        5500 non-null float64\n",
      "multiple                     12485 non-null int64\n",
      "admin                        12462 non-null float64\n",
      "prepawn_handgun              10542 non-null float64\n",
      "prepawn_long_gun             10540 non-null float64\n",
      "prepawn_other                5115 non-null float64\n",
      "redemption_handgun           10545 non-null float64\n",
      "redemption_long_gun          10544 non-null float64\n",
      "redemption_other             5115 non-null float64\n",
      "returned_handgun             2200 non-null float64\n",
      "returned_long_gun            2145 non-null float64\n",
      "returned_other               1815 non-null float64\n",
      "rentals_handgun              990 non-null float64\n",
      "rentals_long_gun             825 non-null float64\n",
      "private_sale_handgun         2750 non-null float64\n",
      "private_sale_long_gun        2750 non-null float64\n",
      "private_sale_other           2750 non-null float64\n",
      "return_to_seller_handgun     2475 non-null float64\n",
      "return_to_seller_long_gun    2750 non-null float64\n",
      "return_to_seller_other       2255 non-null float64\n",
      "totals                       12485 non-null int64\n",
      "dtypes: float64(23), int64(2), object(2)\n",
      "memory usage: 2.6+ MB\n"
     ]
    }
   ],
   "source": [
    "#inspecting the data types and non-null data\n",
    "gun_data.info()"
   ]
  },
  {
   "cell_type": "code",
   "execution_count": 7,
   "metadata": {},
   "outputs": [
    {
     "data": {
      "text/plain": [
       "month                            0\n",
       "state                            0\n",
       "permit                          24\n",
       "permit_recheck               11385\n",
       "handgun                         20\n",
       "long_gun                        19\n",
       "other                         6985\n",
       "multiple                         0\n",
       "admin                           23\n",
       "prepawn_handgun               1943\n",
       "prepawn_long_gun              1945\n",
       "prepawn_other                 7370\n",
       "redemption_handgun            1940\n",
       "redemption_long_gun           1941\n",
       "redemption_other              7370\n",
       "returned_handgun             10285\n",
       "returned_long_gun            10340\n",
       "returned_other               10670\n",
       "rentals_handgun              11495\n",
       "rentals_long_gun             11660\n",
       "private_sale_handgun          9735\n",
       "private_sale_long_gun         9735\n",
       "private_sale_other            9735\n",
       "return_to_seller_handgun     10010\n",
       "return_to_seller_long_gun     9735\n",
       "return_to_seller_other       10230\n",
       "totals                           0\n",
       "dtype: int64"
      ]
     },
     "execution_count": 7,
     "metadata": {},
     "output_type": "execute_result"
    }
   ],
   "source": [
    "#check for null values\n",
    "gun_data.isnull().sum()"
   ]
  },
  {
   "cell_type": "markdown",
   "metadata": {},
   "source": [
    "#### Based on the wrangling step for gun data: \n",
    "<p>month is object type, so we need to convert it to date_time. </p>\n",
    "<p>Total should also be converted it to int. </p>\n",
    "<p> Also, we have 12485 rows, so any with a diffferent value has null or empty cells.Based on our data set type, I believe the best is to use fillna(0, inplace=True) to fill empty or null cells with 0. </p>"
   ]
  },
  {
   "cell_type": "markdown",
   "metadata": {},
   "source": [
    "### Let's move to wrangling our census data set"
   ]
  },
  {
   "cell_type": "code",
   "execution_count": 8,
   "metadata": {},
   "outputs": [
    {
     "data": {
      "text/html": [
       "<div>\n",
       "<style scoped>\n",
       "    .dataframe tbody tr th:only-of-type {\n",
       "        vertical-align: middle;\n",
       "    }\n",
       "\n",
       "    .dataframe tbody tr th {\n",
       "        vertical-align: top;\n",
       "    }\n",
       "\n",
       "    .dataframe thead th {\n",
       "        text-align: right;\n",
       "    }\n",
       "</style>\n",
       "<table border=\"1\" class=\"dataframe\">\n",
       "  <thead>\n",
       "    <tr style=\"text-align: right;\">\n",
       "      <th></th>\n",
       "      <th>Fact</th>\n",
       "      <th>Fact Note</th>\n",
       "      <th>Alabama</th>\n",
       "      <th>Alaska</th>\n",
       "      <th>Arizona</th>\n",
       "      <th>Arkansas</th>\n",
       "      <th>California</th>\n",
       "      <th>Colorado</th>\n",
       "      <th>Connecticut</th>\n",
       "      <th>Delaware</th>\n",
       "      <th>...</th>\n",
       "      <th>South Dakota</th>\n",
       "      <th>Tennessee</th>\n",
       "      <th>Texas</th>\n",
       "      <th>Utah</th>\n",
       "      <th>Vermont</th>\n",
       "      <th>Virginia</th>\n",
       "      <th>Washington</th>\n",
       "      <th>West Virginia</th>\n",
       "      <th>Wisconsin</th>\n",
       "      <th>Wyoming</th>\n",
       "    </tr>\n",
       "  </thead>\n",
       "  <tbody>\n",
       "    <tr>\n",
       "      <th>0</th>\n",
       "      <td>Population estimates, July 1, 2016,  (V2016)</td>\n",
       "      <td>NaN</td>\n",
       "      <td>4,863,300</td>\n",
       "      <td>741,894</td>\n",
       "      <td>6,931,071</td>\n",
       "      <td>2,988,248</td>\n",
       "      <td>39,250,017</td>\n",
       "      <td>5,540,545</td>\n",
       "      <td>3,576,452</td>\n",
       "      <td>952,065</td>\n",
       "      <td>...</td>\n",
       "      <td>865454</td>\n",
       "      <td>6651194</td>\n",
       "      <td>27,862,596</td>\n",
       "      <td>3,051,217</td>\n",
       "      <td>624,594</td>\n",
       "      <td>8,411,808</td>\n",
       "      <td>7,288,000</td>\n",
       "      <td>1,831,102</td>\n",
       "      <td>5,778,708</td>\n",
       "      <td>585,501</td>\n",
       "    </tr>\n",
       "    <tr>\n",
       "      <th>1</th>\n",
       "      <td>Population estimates base, April 1, 2010,  (V2...</td>\n",
       "      <td>NaN</td>\n",
       "      <td>4,780,131</td>\n",
       "      <td>710,249</td>\n",
       "      <td>6,392,301</td>\n",
       "      <td>2,916,025</td>\n",
       "      <td>37,254,522</td>\n",
       "      <td>5,029,324</td>\n",
       "      <td>3,574,114</td>\n",
       "      <td>897,936</td>\n",
       "      <td>...</td>\n",
       "      <td>814195</td>\n",
       "      <td>6346298</td>\n",
       "      <td>25,146,100</td>\n",
       "      <td>2,763,888</td>\n",
       "      <td>625,741</td>\n",
       "      <td>8,001,041</td>\n",
       "      <td>6,724,545</td>\n",
       "      <td>1,853,011</td>\n",
       "      <td>5,687,289</td>\n",
       "      <td>563,767</td>\n",
       "    </tr>\n",
       "  </tbody>\n",
       "</table>\n",
       "<p>2 rows × 52 columns</p>\n",
       "</div>"
      ],
      "text/plain": [
       "                                                Fact Fact Note    Alabama  \\\n",
       "0       Population estimates, July 1, 2016,  (V2016)       NaN  4,863,300   \n",
       "1  Population estimates base, April 1, 2010,  (V2...       NaN  4,780,131   \n",
       "\n",
       "    Alaska    Arizona   Arkansas  California   Colorado Connecticut Delaware  \\\n",
       "0  741,894  6,931,071  2,988,248  39,250,017  5,540,545   3,576,452  952,065   \n",
       "1  710,249  6,392,301  2,916,025  37,254,522  5,029,324   3,574,114  897,936   \n",
       "\n",
       "    ...    South Dakota Tennessee       Texas       Utah  Vermont   Virginia  \\\n",
       "0   ...          865454   6651194  27,862,596  3,051,217  624,594  8,411,808   \n",
       "1   ...          814195   6346298  25,146,100  2,763,888  625,741  8,001,041   \n",
       "\n",
       "  Washington West Virginia  Wisconsin  Wyoming  \n",
       "0  7,288,000     1,831,102  5,778,708  585,501  \n",
       "1  6,724,545     1,853,011  5,687,289  563,767  \n",
       "\n",
       "[2 rows x 52 columns]"
      ]
     },
     "execution_count": 8,
     "metadata": {},
     "output_type": "execute_result"
    }
   ],
   "source": [
    "#inspecting the census_data dataset\n",
    "census_data.head(2)"
   ]
  },
  {
   "cell_type": "code",
   "execution_count": 9,
   "metadata": {},
   "outputs": [
    {
     "data": {
      "text/plain": [
       "(85, 52)"
      ]
     },
     "execution_count": 9,
     "metadata": {},
     "output_type": "execute_result"
    }
   ],
   "source": [
    "#checking the number of rows and columns (85 rows and 52 columns)\n",
    "census_data.shape"
   ]
  },
  {
   "cell_type": "code",
   "execution_count": 10,
   "metadata": {},
   "outputs": [
    {
     "name": "stdout",
     "output_type": "stream",
     "text": [
      "<class 'pandas.core.frame.DataFrame'>\n",
      "RangeIndex: 85 entries, 0 to 84\n",
      "Data columns (total 52 columns):\n",
      "Fact              80 non-null object\n",
      "Fact Note         28 non-null object\n",
      "Alabama           65 non-null object\n",
      "Alaska            65 non-null object\n",
      "Arizona           65 non-null object\n",
      "Arkansas          65 non-null object\n",
      "California        65 non-null object\n",
      "Colorado          65 non-null object\n",
      "Connecticut       65 non-null object\n",
      "Delaware          65 non-null object\n",
      "Florida           65 non-null object\n",
      "Georgia           65 non-null object\n",
      "Hawaii            65 non-null object\n",
      "Idaho             65 non-null object\n",
      "Illinois          65 non-null object\n",
      "Indiana           65 non-null object\n",
      "Iowa              65 non-null object\n",
      "Kansas            65 non-null object\n",
      "Kentucky          65 non-null object\n",
      "Louisiana         65 non-null object\n",
      "Maine             65 non-null object\n",
      "Maryland          65 non-null object\n",
      "Massachusetts     65 non-null object\n",
      "Michigan          65 non-null object\n",
      "Minnesota         65 non-null object\n",
      "Mississippi       65 non-null object\n",
      "Missouri          65 non-null object\n",
      "Montana           65 non-null object\n",
      "Nebraska          65 non-null object\n",
      "Nevada            65 non-null object\n",
      "New Hampshire     65 non-null object\n",
      "New Jersey        65 non-null object\n",
      "New Mexico        65 non-null object\n",
      "New York          65 non-null object\n",
      "North Carolina    65 non-null object\n",
      "North Dakota      65 non-null object\n",
      "Ohio              65 non-null object\n",
      "Oklahoma          65 non-null object\n",
      "Oregon            65 non-null object\n",
      "Pennsylvania      65 non-null object\n",
      "Rhode Island      65 non-null object\n",
      "South Carolina    65 non-null object\n",
      "South Dakota      65 non-null object\n",
      "Tennessee         65 non-null object\n",
      "Texas             65 non-null object\n",
      "Utah              65 non-null object\n",
      "Vermont           65 non-null object\n",
      "Virginia          65 non-null object\n",
      "Washington        65 non-null object\n",
      "West Virginia     65 non-null object\n",
      "Wisconsin         65 non-null object\n",
      "Wyoming           65 non-null object\n",
      "dtypes: object(52)\n",
      "memory usage: 34.6+ KB\n"
     ]
    }
   ],
   "source": [
    "#inspecting the data types and number of non-null data\n",
    "census_data.info()"
   ]
  },
  {
   "cell_type": "markdown",
   "metadata": {},
   "source": [
    "For the census data set, the state columns should be of type float instead of string, so we need some conversion."
   ]
  },
  {
   "cell_type": "code",
   "execution_count": 11,
   "metadata": {},
   "outputs": [
    {
     "data": {
      "text/html": [
       "<div>\n",
       "<style scoped>\n",
       "    .dataframe tbody tr th:only-of-type {\n",
       "        vertical-align: middle;\n",
       "    }\n",
       "\n",
       "    .dataframe tbody tr th {\n",
       "        vertical-align: top;\n",
       "    }\n",
       "\n",
       "    .dataframe thead th {\n",
       "        text-align: right;\n",
       "    }\n",
       "</style>\n",
       "<table border=\"1\" class=\"dataframe\">\n",
       "  <thead>\n",
       "    <tr style=\"text-align: right;\">\n",
       "      <th></th>\n",
       "      <th>Fact</th>\n",
       "      <th>Fact Note</th>\n",
       "      <th>Alabama</th>\n",
       "      <th>Alaska</th>\n",
       "      <th>Arizona</th>\n",
       "      <th>Arkansas</th>\n",
       "      <th>California</th>\n",
       "      <th>Colorado</th>\n",
       "      <th>Connecticut</th>\n",
       "      <th>Delaware</th>\n",
       "      <th>...</th>\n",
       "      <th>South Dakota</th>\n",
       "      <th>Tennessee</th>\n",
       "      <th>Texas</th>\n",
       "      <th>Utah</th>\n",
       "      <th>Vermont</th>\n",
       "      <th>Virginia</th>\n",
       "      <th>Washington</th>\n",
       "      <th>West Virginia</th>\n",
       "      <th>Wisconsin</th>\n",
       "      <th>Wyoming</th>\n",
       "    </tr>\n",
       "  </thead>\n",
       "  <tbody>\n",
       "    <tr>\n",
       "      <th>count</th>\n",
       "      <td>80</td>\n",
       "      <td>28</td>\n",
       "      <td>65</td>\n",
       "      <td>65</td>\n",
       "      <td>65</td>\n",
       "      <td>65</td>\n",
       "      <td>65</td>\n",
       "      <td>65</td>\n",
       "      <td>65</td>\n",
       "      <td>65</td>\n",
       "      <td>...</td>\n",
       "      <td>65</td>\n",
       "      <td>65</td>\n",
       "      <td>65</td>\n",
       "      <td>65</td>\n",
       "      <td>65</td>\n",
       "      <td>65</td>\n",
       "      <td>65</td>\n",
       "      <td>65</td>\n",
       "      <td>65</td>\n",
       "      <td>65</td>\n",
       "    </tr>\n",
       "    <tr>\n",
       "      <th>unique</th>\n",
       "      <td>80</td>\n",
       "      <td>15</td>\n",
       "      <td>65</td>\n",
       "      <td>64</td>\n",
       "      <td>64</td>\n",
       "      <td>64</td>\n",
       "      <td>63</td>\n",
       "      <td>64</td>\n",
       "      <td>63</td>\n",
       "      <td>64</td>\n",
       "      <td>...</td>\n",
       "      <td>65</td>\n",
       "      <td>64</td>\n",
       "      <td>64</td>\n",
       "      <td>64</td>\n",
       "      <td>63</td>\n",
       "      <td>65</td>\n",
       "      <td>65</td>\n",
       "      <td>64</td>\n",
       "      <td>65</td>\n",
       "      <td>64</td>\n",
       "    </tr>\n",
       "    <tr>\n",
       "      <th>top</th>\n",
       "      <td>Total retail sales, 2012 ($1,000)</td>\n",
       "      <td>(c)</td>\n",
       "      <td>65.80%</td>\n",
       "      <td>7.30%</td>\n",
       "      <td>50.30%</td>\n",
       "      <td>50.90%</td>\n",
       "      <td>50.30%</td>\n",
       "      <td>3.30%</td>\n",
       "      <td>5.70%</td>\n",
       "      <td>51.60%</td>\n",
       "      <td>...</td>\n",
       "      <td>10.7</td>\n",
       "      <td>0.048</td>\n",
       "      <td>50.40%</td>\n",
       "      <td>2.50%</td>\n",
       "      <td>625,741</td>\n",
       "      <td>10.10%</td>\n",
       "      <td>444,135</td>\n",
       "      <td>1.50%</td>\n",
       "      <td>$53,357</td>\n",
       "      <td>7.10%</td>\n",
       "    </tr>\n",
       "    <tr>\n",
       "      <th>freq</th>\n",
       "      <td>1</td>\n",
       "      <td>6</td>\n",
       "      <td>1</td>\n",
       "      <td>2</td>\n",
       "      <td>2</td>\n",
       "      <td>2</td>\n",
       "      <td>2</td>\n",
       "      <td>2</td>\n",
       "      <td>2</td>\n",
       "      <td>2</td>\n",
       "      <td>...</td>\n",
       "      <td>1</td>\n",
       "      <td>2</td>\n",
       "      <td>2</td>\n",
       "      <td>2</td>\n",
       "      <td>2</td>\n",
       "      <td>1</td>\n",
       "      <td>1</td>\n",
       "      <td>2</td>\n",
       "      <td>1</td>\n",
       "      <td>2</td>\n",
       "    </tr>\n",
       "  </tbody>\n",
       "</table>\n",
       "<p>4 rows × 52 columns</p>\n",
       "</div>"
      ],
      "text/plain": [
       "                                     Fact Fact Note Alabama Alaska Arizona  \\\n",
       "count                                  80        28      65     65      65   \n",
       "unique                                 80        15      65     64      64   \n",
       "top     Total retail sales, 2012 ($1,000)       (c)  65.80%  7.30%  50.30%   \n",
       "freq                                    1         6       1      2       2   \n",
       "\n",
       "       Arkansas California Colorado Connecticut Delaware   ...   South Dakota  \\\n",
       "count        65         65       65          65       65   ...             65   \n",
       "unique       64         63       64          63       64   ...             65   \n",
       "top      50.90%     50.30%    3.30%       5.70%   51.60%   ...           10.7   \n",
       "freq          2          2        2           2        2   ...              1   \n",
       "\n",
       "       Tennessee   Texas   Utah  Vermont Virginia Washington West Virginia  \\\n",
       "count         65      65     65       65       65         65            65   \n",
       "unique        64      64     64       63       65         65            64   \n",
       "top        0.048  50.40%  2.50%  625,741   10.10%    444,135         1.50%   \n",
       "freq           2       2      2        2        1          1             2   \n",
       "\n",
       "       Wisconsin Wyoming  \n",
       "count         65      65  \n",
       "unique        65      64  \n",
       "top     $53,357    7.10%  \n",
       "freq           1       2  \n",
       "\n",
       "[4 rows x 52 columns]"
      ]
     },
     "execution_count": 11,
     "metadata": {},
     "output_type": "execute_result"
    }
   ],
   "source": [
    "#looking at the summary statistics for the gun_data dataset\n",
    "census_data.describe()"
   ]
  },
  {
   "cell_type": "markdown",
   "metadata": {},
   "source": [
    "\n",
    "### Data Cleaning\n",
    "> **Tip**: Make sure that you keep your reader informed on the steps that you are taking in your investigation. Follow every code cell, or every set of related code cells, with a markdown cell to describe to the reader what was found in the preceding cell(s). Try to make it so that the reader can then understand what they will be seeing in the following cell(s).\n",
    " "
   ]
  },
  {
   "cell_type": "markdown",
   "metadata": {},
   "source": [
    "## Cleaning steps on both gun data dataset and census data dataset"
   ]
  },
  {
   "cell_type": "code",
   "execution_count": 12,
   "metadata": {},
   "outputs": [],
   "source": [
    "# After discussing the structure of the data and any problems that need to be\n",
    "#   cleaned, perform those cleaning steps in the second part of this section.\n"
   ]
  },
  {
   "cell_type": "markdown",
   "metadata": {},
   "source": [
    "## Gun data cleaning\n",
    "<p>gun_data.info(),shows month is object type, So we need to convert it to date_time.</p>\n",
    "<p>totals column should also be float, so we convert it to float using astype(float)</p>\n",
    "<p>Also, we have 12485 rows, so any with a diffferent value has null or empty cells. Based on our data set type, I believe the best is to use fillna(0, inplace=True) to fill empty or null cells with 0.</p>"
   ]
  },
  {
   "cell_type": "code",
   "execution_count": 13,
   "metadata": {},
   "outputs": [
    {
     "data": {
      "text/plain": [
       "month                        datetime64[ns]\n",
       "state                                object\n",
       "permit                              float64\n",
       "permit_recheck                      float64\n",
       "handgun                             float64\n",
       "long_gun                            float64\n",
       "other                               float64\n",
       "multiple                              int64\n",
       "admin                               float64\n",
       "prepawn_handgun                     float64\n",
       "prepawn_long_gun                    float64\n",
       "prepawn_other                       float64\n",
       "redemption_handgun                  float64\n",
       "redemption_long_gun                 float64\n",
       "redemption_other                    float64\n",
       "returned_handgun                    float64\n",
       "returned_long_gun                   float64\n",
       "returned_other                      float64\n",
       "rentals_handgun                     float64\n",
       "rentals_long_gun                    float64\n",
       "private_sale_handgun                float64\n",
       "private_sale_long_gun               float64\n",
       "private_sale_other                  float64\n",
       "return_to_seller_handgun            float64\n",
       "return_to_seller_long_gun           float64\n",
       "return_to_seller_other              float64\n",
       "totals                                int64\n",
       "dtype: object"
      ]
     },
     "execution_count": 13,
     "metadata": {},
     "output_type": "execute_result"
    }
   ],
   "source": [
    "#Coversion of month from string to datetime\n",
    "gun_data['month'] = pd.to_datetime(gun_data['month'])\n",
    "gun_data.dtypes"
   ]
  },
  {
   "cell_type": "code",
   "execution_count": 14,
   "metadata": {},
   "outputs": [],
   "source": [
    "#convert totals from int to float\n",
    "gun_data['totals']=gun_data['totals'].astype(float)"
   ]
  },
  {
   "cell_type": "code",
   "execution_count": 15,
   "metadata": {},
   "outputs": [],
   "source": [
    "#fill up empty cells with zero and make sure to use inplace=true to effect the changes on the current data frame\n",
    "gun_data.fillna(0, inplace=True)"
   ]
  },
  {
   "cell_type": "code",
   "execution_count": 16,
   "metadata": {},
   "outputs": [
    {
     "data": {
      "text/plain": [
       "False"
      ]
     },
     "execution_count": 16,
     "metadata": {},
     "output_type": "execute_result"
    }
   ],
   "source": [
    "#checking if any empty cell exist, should return false if none exist\n",
    "gun_data.isnull().sum().any()"
   ]
  },
  {
   "cell_type": "markdown",
   "metadata": {},
   "source": [
    "## Census data cleaning\n",
    "> <p>gun_data.info(),shows month is object type, So we need to convert it to date_time.</p>"
   ]
  },
  {
   "cell_type": "code",
   "execution_count": 17,
   "metadata": {},
   "outputs": [],
   "source": [
    "#function : to convert censu data to float from 2nd colum to the last columns\n",
    "def convert_census_to_float():\n",
    "    for i in census_data.columns[2:]:\n",
    "        census_data[i]=census_data[i].replace('[A-Za-z]', '0', regex=True)\n",
    "        census_data[i]=census_data[i].replace('[^\\d.]', '', regex=True).astype(float)"
   ]
  },
  {
   "cell_type": "code",
   "execution_count": 18,
   "metadata": {},
   "outputs": [],
   "source": [
    "#calling our conver_census_to_float function: Based on previous requirment review. so implemented the correction\n",
    "convert_census_to_float()"
   ]
  },
  {
   "cell_type": "markdown",
   "metadata": {},
   "source": [
    "convert_census_to_float() is my correction for not having a function in my first submission"
   ]
  },
  {
   "cell_type": "markdown",
   "metadata": {},
   "source": [
    "<a id='eda'></a>\n",
    "## Exploratory Data Analysis\n",
    "\n",
    "> **Tip**: Now that you've trimmed and cleaned your data, you're ready to move on to exploration. **Compute statistics** and **create visualizations** with the goal of addressing the research questions that you posed in the Introduction section. You should compute the relevant statistics throughout the analysis when an inference is made about the data. Note that at least two or more kinds of plots should be created as part of the exploration, and you must  compare and show trends in the varied visualizations. \n",
    "\n",
    "\n",
    "\n",
    "> **Tip**: - Investigate the stated question(s) from multiple angles. It is recommended that you be systematic with your approach. Look at one variable at a time, and then follow it up by looking at relationships between variables. You should explore at least three variables in relation to the primary question. This can be an exploratory relationship between three variables of interest, or looking at how two independent variables relate to a single dependent variable of interest. Lastly, you  should perform both single-variable (1d) and multiple-variable (2d) explorations.\n",
    "\n",
    "\n"
   ]
  },
  {
   "cell_type": "code",
   "execution_count": 19,
   "metadata": {},
   "outputs": [
    {
     "data": {
      "text/html": [
       "<div>\n",
       "<style scoped>\n",
       "    .dataframe tbody tr th:only-of-type {\n",
       "        vertical-align: middle;\n",
       "    }\n",
       "\n",
       "    .dataframe tbody tr th {\n",
       "        vertical-align: top;\n",
       "    }\n",
       "\n",
       "    .dataframe thead th {\n",
       "        text-align: right;\n",
       "    }\n",
       "</style>\n",
       "<table border=\"1\" class=\"dataframe\">\n",
       "  <thead>\n",
       "    <tr style=\"text-align: right;\">\n",
       "      <th></th>\n",
       "      <th>permit</th>\n",
       "      <th>permit_recheck</th>\n",
       "      <th>handgun</th>\n",
       "      <th>long_gun</th>\n",
       "      <th>other</th>\n",
       "      <th>multiple</th>\n",
       "      <th>admin</th>\n",
       "      <th>prepawn_handgun</th>\n",
       "      <th>prepawn_long_gun</th>\n",
       "      <th>prepawn_other</th>\n",
       "      <th>...</th>\n",
       "      <th>returned_other</th>\n",
       "      <th>rentals_handgun</th>\n",
       "      <th>rentals_long_gun</th>\n",
       "      <th>private_sale_handgun</th>\n",
       "      <th>private_sale_long_gun</th>\n",
       "      <th>private_sale_other</th>\n",
       "      <th>return_to_seller_handgun</th>\n",
       "      <th>return_to_seller_long_gun</th>\n",
       "      <th>return_to_seller_other</th>\n",
       "      <th>totals</th>\n",
       "    </tr>\n",
       "  </thead>\n",
       "  <tbody>\n",
       "    <tr>\n",
       "      <th>count</th>\n",
       "      <td>12485.000000</td>\n",
       "      <td>12485.000000</td>\n",
       "      <td>12485.000000</td>\n",
       "      <td>12485.000000</td>\n",
       "      <td>12485.000000</td>\n",
       "      <td>12485.000000</td>\n",
       "      <td>12485.000000</td>\n",
       "      <td>12485.000000</td>\n",
       "      <td>12485.000000</td>\n",
       "      <td>12485.000000</td>\n",
       "      <td>...</td>\n",
       "      <td>12485.000000</td>\n",
       "      <td>12485.000000</td>\n",
       "      <td>12485.000000</td>\n",
       "      <td>12485.000000</td>\n",
       "      <td>12485.000000</td>\n",
       "      <td>12485.000000</td>\n",
       "      <td>12485.000000</td>\n",
       "      <td>12485.000000</td>\n",
       "      <td>12485.000000</td>\n",
       "      <td>12485.000000</td>\n",
       "    </tr>\n",
       "    <tr>\n",
       "      <th>mean</th>\n",
       "      <td>6401.300441</td>\n",
       "      <td>102.727433</td>\n",
       "      <td>5931.364277</td>\n",
       "      <td>7798.960833</td>\n",
       "      <td>158.798078</td>\n",
       "      <td>268.603364</td>\n",
       "      <td>58.789588</td>\n",
       "      <td>4.076652</td>\n",
       "      <td>6.613696</td>\n",
       "      <td>0.067841</td>\n",
       "      <td>...</td>\n",
       "      <td>0.149379</td>\n",
       "      <td>0.006087</td>\n",
       "      <td>0.005767</td>\n",
       "      <td>3.289868</td>\n",
       "      <td>2.555707</td>\n",
       "      <td>0.226912</td>\n",
       "      <td>0.079696</td>\n",
       "      <td>0.097317</td>\n",
       "      <td>0.019143</td>\n",
       "      <td>21595.725911</td>\n",
       "    </tr>\n",
       "    <tr>\n",
       "      <th>std</th>\n",
       "      <td>23731.158830</td>\n",
       "      <td>2756.731662</td>\n",
       "      <td>8614.954626</td>\n",
       "      <td>9307.740581</td>\n",
       "      <td>913.339655</td>\n",
       "      <td>783.185073</td>\n",
       "      <td>604.262697</td>\n",
       "      <td>10.174706</td>\n",
       "      <td>15.395329</td>\n",
       "      <td>0.681467</td>\n",
       "      <td>...</td>\n",
       "      <td>1.710795</td>\n",
       "      <td>0.179790</td>\n",
       "      <td>0.173912</td>\n",
       "      <td>33.987054</td>\n",
       "      <td>25.908792</td>\n",
       "      <td>2.139596</td>\n",
       "      <td>0.663611</td>\n",
       "      <td>0.740136</td>\n",
       "      <td>0.186114</td>\n",
       "      <td>32591.418387</td>\n",
       "    </tr>\n",
       "    <tr>\n",
       "      <th>min</th>\n",
       "      <td>0.000000</td>\n",
       "      <td>0.000000</td>\n",
       "      <td>0.000000</td>\n",
       "      <td>0.000000</td>\n",
       "      <td>0.000000</td>\n",
       "      <td>0.000000</td>\n",
       "      <td>0.000000</td>\n",
       "      <td>0.000000</td>\n",
       "      <td>0.000000</td>\n",
       "      <td>0.000000</td>\n",
       "      <td>...</td>\n",
       "      <td>0.000000</td>\n",
       "      <td>0.000000</td>\n",
       "      <td>0.000000</td>\n",
       "      <td>0.000000</td>\n",
       "      <td>0.000000</td>\n",
       "      <td>0.000000</td>\n",
       "      <td>0.000000</td>\n",
       "      <td>0.000000</td>\n",
       "      <td>0.000000</td>\n",
       "      <td>0.000000</td>\n",
       "    </tr>\n",
       "    <tr>\n",
       "      <th>25%</th>\n",
       "      <td>0.000000</td>\n",
       "      <td>0.000000</td>\n",
       "      <td>857.000000</td>\n",
       "      <td>2063.000000</td>\n",
       "      <td>0.000000</td>\n",
       "      <td>15.000000</td>\n",
       "      <td>0.000000</td>\n",
       "      <td>0.000000</td>\n",
       "      <td>0.000000</td>\n",
       "      <td>0.000000</td>\n",
       "      <td>...</td>\n",
       "      <td>0.000000</td>\n",
       "      <td>0.000000</td>\n",
       "      <td>0.000000</td>\n",
       "      <td>0.000000</td>\n",
       "      <td>0.000000</td>\n",
       "      <td>0.000000</td>\n",
       "      <td>0.000000</td>\n",
       "      <td>0.000000</td>\n",
       "      <td>0.000000</td>\n",
       "      <td>4638.000000</td>\n",
       "    </tr>\n",
       "    <tr>\n",
       "      <th>50%</th>\n",
       "      <td>511.000000</td>\n",
       "      <td>0.000000</td>\n",
       "      <td>3046.000000</td>\n",
       "      <td>5114.000000</td>\n",
       "      <td>0.000000</td>\n",
       "      <td>125.000000</td>\n",
       "      <td>0.000000</td>\n",
       "      <td>0.000000</td>\n",
       "      <td>0.000000</td>\n",
       "      <td>0.000000</td>\n",
       "      <td>...</td>\n",
       "      <td>0.000000</td>\n",
       "      <td>0.000000</td>\n",
       "      <td>0.000000</td>\n",
       "      <td>0.000000</td>\n",
       "      <td>0.000000</td>\n",
       "      <td>0.000000</td>\n",
       "      <td>0.000000</td>\n",
       "      <td>0.000000</td>\n",
       "      <td>0.000000</td>\n",
       "      <td>12399.000000</td>\n",
       "    </tr>\n",
       "    <tr>\n",
       "      <th>75%</th>\n",
       "      <td>4257.000000</td>\n",
       "      <td>0.000000</td>\n",
       "      <td>7277.000000</td>\n",
       "      <td>10374.000000</td>\n",
       "      <td>89.000000</td>\n",
       "      <td>301.000000</td>\n",
       "      <td>0.000000</td>\n",
       "      <td>3.000000</td>\n",
       "      <td>6.000000</td>\n",
       "      <td>0.000000</td>\n",
       "      <td>...</td>\n",
       "      <td>0.000000</td>\n",
       "      <td>0.000000</td>\n",
       "      <td>0.000000</td>\n",
       "      <td>0.000000</td>\n",
       "      <td>0.000000</td>\n",
       "      <td>0.000000</td>\n",
       "      <td>0.000000</td>\n",
       "      <td>0.000000</td>\n",
       "      <td>0.000000</td>\n",
       "      <td>25453.000000</td>\n",
       "    </tr>\n",
       "    <tr>\n",
       "      <th>max</th>\n",
       "      <td>522188.000000</td>\n",
       "      <td>116681.000000</td>\n",
       "      <td>107224.000000</td>\n",
       "      <td>108058.000000</td>\n",
       "      <td>77929.000000</td>\n",
       "      <td>38907.000000</td>\n",
       "      <td>28083.000000</td>\n",
       "      <td>164.000000</td>\n",
       "      <td>269.000000</td>\n",
       "      <td>49.000000</td>\n",
       "      <td>...</td>\n",
       "      <td>64.000000</td>\n",
       "      <td>12.000000</td>\n",
       "      <td>12.000000</td>\n",
       "      <td>1017.000000</td>\n",
       "      <td>777.000000</td>\n",
       "      <td>71.000000</td>\n",
       "      <td>28.000000</td>\n",
       "      <td>17.000000</td>\n",
       "      <td>4.000000</td>\n",
       "      <td>541978.000000</td>\n",
       "    </tr>\n",
       "  </tbody>\n",
       "</table>\n",
       "<p>8 rows × 25 columns</p>\n",
       "</div>"
      ],
      "text/plain": [
       "              permit  permit_recheck        handgun       long_gun  \\\n",
       "count   12485.000000    12485.000000   12485.000000   12485.000000   \n",
       "mean     6401.300441      102.727433    5931.364277    7798.960833   \n",
       "std     23731.158830     2756.731662    8614.954626    9307.740581   \n",
       "min         0.000000        0.000000       0.000000       0.000000   \n",
       "25%         0.000000        0.000000     857.000000    2063.000000   \n",
       "50%       511.000000        0.000000    3046.000000    5114.000000   \n",
       "75%      4257.000000        0.000000    7277.000000   10374.000000   \n",
       "max    522188.000000   116681.000000  107224.000000  108058.000000   \n",
       "\n",
       "              other      multiple         admin  prepawn_handgun  \\\n",
       "count  12485.000000  12485.000000  12485.000000     12485.000000   \n",
       "mean     158.798078    268.603364     58.789588         4.076652   \n",
       "std      913.339655    783.185073    604.262697        10.174706   \n",
       "min        0.000000      0.000000      0.000000         0.000000   \n",
       "25%        0.000000     15.000000      0.000000         0.000000   \n",
       "50%        0.000000    125.000000      0.000000         0.000000   \n",
       "75%       89.000000    301.000000      0.000000         3.000000   \n",
       "max    77929.000000  38907.000000  28083.000000       164.000000   \n",
       "\n",
       "       prepawn_long_gun  prepawn_other      ...        returned_other  \\\n",
       "count      12485.000000   12485.000000      ...          12485.000000   \n",
       "mean           6.613696       0.067841      ...              0.149379   \n",
       "std           15.395329       0.681467      ...              1.710795   \n",
       "min            0.000000       0.000000      ...              0.000000   \n",
       "25%            0.000000       0.000000      ...              0.000000   \n",
       "50%            0.000000       0.000000      ...              0.000000   \n",
       "75%            6.000000       0.000000      ...              0.000000   \n",
       "max          269.000000      49.000000      ...             64.000000   \n",
       "\n",
       "       rentals_handgun  rentals_long_gun  private_sale_handgun  \\\n",
       "count     12485.000000      12485.000000          12485.000000   \n",
       "mean          0.006087          0.005767              3.289868   \n",
       "std           0.179790          0.173912             33.987054   \n",
       "min           0.000000          0.000000              0.000000   \n",
       "25%           0.000000          0.000000              0.000000   \n",
       "50%           0.000000          0.000000              0.000000   \n",
       "75%           0.000000          0.000000              0.000000   \n",
       "max          12.000000         12.000000           1017.000000   \n",
       "\n",
       "       private_sale_long_gun  private_sale_other  return_to_seller_handgun  \\\n",
       "count           12485.000000        12485.000000              12485.000000   \n",
       "mean                2.555707            0.226912                  0.079696   \n",
       "std                25.908792            2.139596                  0.663611   \n",
       "min                 0.000000            0.000000                  0.000000   \n",
       "25%                 0.000000            0.000000                  0.000000   \n",
       "50%                 0.000000            0.000000                  0.000000   \n",
       "75%                 0.000000            0.000000                  0.000000   \n",
       "max               777.000000           71.000000                 28.000000   \n",
       "\n",
       "       return_to_seller_long_gun  return_to_seller_other         totals  \n",
       "count               12485.000000            12485.000000   12485.000000  \n",
       "mean                    0.097317                0.019143   21595.725911  \n",
       "std                     0.740136                0.186114   32591.418387  \n",
       "min                     0.000000                0.000000       0.000000  \n",
       "25%                     0.000000                0.000000    4638.000000  \n",
       "50%                     0.000000                0.000000   12399.000000  \n",
       "75%                     0.000000                0.000000   25453.000000  \n",
       "max                    17.000000                4.000000  541978.000000  \n",
       "\n",
       "[8 rows x 25 columns]"
      ]
     },
     "execution_count": 19,
     "metadata": {},
     "output_type": "execute_result"
    }
   ],
   "source": [
    "#looking at the summary statistics for the gun_data dataset\n",
    "gun_data.describe()"
   ]
  },
  {
   "cell_type": "markdown",
   "metadata": {},
   "source": [
    "The above shows the descriptive statistics for the gun data set. "
   ]
  },
  {
   "cell_type": "markdown",
   "metadata": {},
   "source": [
    "## RQ1. Which state has the highest category of each variable (e.g highest permit, handguns, private_long_gun e.t.c ?"
   ]
  },
  {
   "cell_type": "code",
   "execution_count": 54,
   "metadata": {
    "scrolled": true
   },
   "outputs": [
    {
     "data": {
      "text/html": [
       "<div>\n",
       "<style scoped>\n",
       "    .dataframe tbody tr th:only-of-type {\n",
       "        vertical-align: middle;\n",
       "    }\n",
       "\n",
       "    .dataframe tbody tr th {\n",
       "        vertical-align: top;\n",
       "    }\n",
       "\n",
       "    .dataframe thead th {\n",
       "        text-align: right;\n",
       "    }\n",
       "</style>\n",
       "<table border=\"1\" class=\"dataframe\">\n",
       "  <thead>\n",
       "    <tr style=\"text-align: right;\">\n",
       "      <th></th>\n",
       "      <th>column</th>\n",
       "      <th>Highest(Max)</th>\n",
       "    </tr>\n",
       "    <tr>\n",
       "      <th>state</th>\n",
       "      <th></th>\n",
       "      <th></th>\n",
       "    </tr>\n",
       "  </thead>\n",
       "  <tbody>\n",
       "    <tr>\n",
       "      <th>[North Carolina]</th>\n",
       "      <td>permit</td>\n",
       "      <td>522188.0</td>\n",
       "    </tr>\n",
       "    <tr>\n",
       "      <th>[Illinois]</th>\n",
       "      <td>permit_recheck</td>\n",
       "      <td>116681.0</td>\n",
       "    </tr>\n",
       "    <tr>\n",
       "      <th>[Texas]</th>\n",
       "      <td>handgun</td>\n",
       "      <td>107224.0</td>\n",
       "    </tr>\n",
       "    <tr>\n",
       "      <th>[Texas]</th>\n",
       "      <td>long_gun</td>\n",
       "      <td>108058.0</td>\n",
       "    </tr>\n",
       "    <tr>\n",
       "      <th>[California]</th>\n",
       "      <td>other</td>\n",
       "      <td>77929.0</td>\n",
       "    </tr>\n",
       "    <tr>\n",
       "      <th>[California]</th>\n",
       "      <td>multiple</td>\n",
       "      <td>38907.0</td>\n",
       "    </tr>\n",
       "    <tr>\n",
       "      <th>[Kentucky]</th>\n",
       "      <td>admin</td>\n",
       "      <td>28083.0</td>\n",
       "    </tr>\n",
       "    <tr>\n",
       "      <th>[New York]</th>\n",
       "      <td>prepawn_handgun</td>\n",
       "      <td>164.0</td>\n",
       "    </tr>\n",
       "    <tr>\n",
       "      <th>[Texas]</th>\n",
       "      <td>prepawn_long_gun</td>\n",
       "      <td>269.0</td>\n",
       "    </tr>\n",
       "    <tr>\n",
       "      <th>[Connecticut]</th>\n",
       "      <td>prepawn_other</td>\n",
       "      <td>49.0</td>\n",
       "    </tr>\n",
       "    <tr>\n",
       "      <th>[Texas]</th>\n",
       "      <td>redemption_handgun</td>\n",
       "      <td>10046.0</td>\n",
       "    </tr>\n",
       "    <tr>\n",
       "      <th>[Texas]</th>\n",
       "      <td>redemption_long_gun</td>\n",
       "      <td>8831.0</td>\n",
       "    </tr>\n",
       "    <tr>\n",
       "      <th>[California]</th>\n",
       "      <td>redemption_other</td>\n",
       "      <td>79.0</td>\n",
       "    </tr>\n",
       "    <tr>\n",
       "      <th>[Pennsylvania]</th>\n",
       "      <td>returned_handgun</td>\n",
       "      <td>603.0</td>\n",
       "    </tr>\n",
       "    <tr>\n",
       "      <th>[Utah, Washington]</th>\n",
       "      <td>returned_long_gun</td>\n",
       "      <td>168.0</td>\n",
       "    </tr>\n",
       "    <tr>\n",
       "      <th>[Utah]</th>\n",
       "      <td>returned_other</td>\n",
       "      <td>64.0</td>\n",
       "    </tr>\n",
       "    <tr>\n",
       "      <th>[North Carolina]</th>\n",
       "      <td>rentals_handgun</td>\n",
       "      <td>12.0</td>\n",
       "    </tr>\n",
       "    <tr>\n",
       "      <th>[New York]</th>\n",
       "      <td>rentals_long_gun</td>\n",
       "      <td>12.0</td>\n",
       "    </tr>\n",
       "    <tr>\n",
       "      <th>[Washington]</th>\n",
       "      <td>private_sale_handgun</td>\n",
       "      <td>1017.0</td>\n",
       "    </tr>\n",
       "    <tr>\n",
       "      <th>[Washington]</th>\n",
       "      <td>private_sale_long_gun</td>\n",
       "      <td>777.0</td>\n",
       "    </tr>\n",
       "    <tr>\n",
       "      <th>[Washington]</th>\n",
       "      <td>private_sale_other</td>\n",
       "      <td>71.0</td>\n",
       "    </tr>\n",
       "    <tr>\n",
       "      <th>[Connecticut]</th>\n",
       "      <td>return_to_seller_handgun</td>\n",
       "      <td>28.0</td>\n",
       "    </tr>\n",
       "    <tr>\n",
       "      <th>[New York]</th>\n",
       "      <td>return_to_seller_long_gun</td>\n",
       "      <td>17.0</td>\n",
       "    </tr>\n",
       "    <tr>\n",
       "      <th>[Maryland, Washington, New York, New York, Maryland, Connecticut]</th>\n",
       "      <td>return_to_seller_other</td>\n",
       "      <td>4.0</td>\n",
       "    </tr>\n",
       "  </tbody>\n",
       "</table>\n",
       "</div>"
      ],
      "text/plain": [
       "                                                                       column  \\\n",
       "state                                                                           \n",
       "[North Carolina]                                                       permit   \n",
       "[Illinois]                                                     permit_recheck   \n",
       "[Texas]                                                               handgun   \n",
       "[Texas]                                                              long_gun   \n",
       "[California]                                                            other   \n",
       "[California]                                                         multiple   \n",
       "[Kentucky]                                                              admin   \n",
       "[New York]                                                    prepawn_handgun   \n",
       "[Texas]                                                      prepawn_long_gun   \n",
       "[Connecticut]                                                   prepawn_other   \n",
       "[Texas]                                                    redemption_handgun   \n",
       "[Texas]                                                   redemption_long_gun   \n",
       "[California]                                                 redemption_other   \n",
       "[Pennsylvania]                                               returned_handgun   \n",
       "[Utah, Washington]                                          returned_long_gun   \n",
       "[Utah]                                                         returned_other   \n",
       "[North Carolina]                                              rentals_handgun   \n",
       "[New York]                                                   rentals_long_gun   \n",
       "[Washington]                                             private_sale_handgun   \n",
       "[Washington]                                            private_sale_long_gun   \n",
       "[Washington]                                               private_sale_other   \n",
       "[Connecticut]                                        return_to_seller_handgun   \n",
       "[New York]                                          return_to_seller_long_gun   \n",
       "[Maryland, Washington, New York, New York, Mary...     return_to_seller_other   \n",
       "\n",
       "                                                    Highest(Max)  \n",
       "state                                                             \n",
       "[North Carolina]                                        522188.0  \n",
       "[Illinois]                                              116681.0  \n",
       "[Texas]                                                 107224.0  \n",
       "[Texas]                                                 108058.0  \n",
       "[California]                                             77929.0  \n",
       "[California]                                             38907.0  \n",
       "[Kentucky]                                               28083.0  \n",
       "[New York]                                                 164.0  \n",
       "[Texas]                                                    269.0  \n",
       "[Connecticut]                                               49.0  \n",
       "[Texas]                                                  10046.0  \n",
       "[Texas]                                                   8831.0  \n",
       "[California]                                                79.0  \n",
       "[Pennsylvania]                                             603.0  \n",
       "[Utah, Washington]                                         168.0  \n",
       "[Utah]                                                      64.0  \n",
       "[North Carolina]                                            12.0  \n",
       "[New York]                                                  12.0  \n",
       "[Washington]                                              1017.0  \n",
       "[Washington]                                               777.0  \n",
       "[Washington]                                                71.0  \n",
       "[Connecticut]                                               28.0  \n",
       "[New York]                                                  17.0  \n",
       "[Maryland, Washington, New York, New York, Mary...           4.0  "
      ]
     },
     "execution_count": 54,
     "metadata": {},
     "output_type": "execute_result"
    }
   ],
   "source": [
    "#checking states with the highest (maximum) permit,permit_recheck,handgun... return_to_seller_other in our whole dataset\n",
    "#create a loop to give you the state with hihgest of each column\n",
    "\n",
    "x=2 #index starting at 2 to skip month and state column in our loop\n",
    "max_state_list=[] #A list to hold states with maximum value in their column\n",
    "max_value_perCol=[]# A list to hold values of maximum per coulumn\n",
    "month_list=[]\n",
    "column_list=[]#A list to hold our column list i.e starting from permit, permit_recheck, handgun...return_to_seller_other\n",
    "\n",
    "for x, y in zip(gun_data.columns[2:], range(2,26)):\n",
    "    #first we get the maximimum value for each column\n",
    "    themax=gun_data[x].max()\n",
    "    max_value_perCol.append(gun_data[x].max())#and append it to max_value_perCol list\n",
    "    \n",
    "    #second we get the column name associated with the max value\n",
    "    column_name=gun_data[x]\n",
    "    \n",
    "    #we append the column name using the y index\n",
    "    column_list.append(gun_data.columns[y])\n",
    "    \n",
    "    #third we use query to check if column_name i.e state equal to max\n",
    "    stt=gun_data.query('@column_name == @themax').state\n",
    "    max_state_list.append(stt)\n",
    "\n",
    "    \n",
    "highest_df=pd.DataFrame({'column':column_list, 'state':max_state_list, 'Highest(Max)':max_value_perCol})\n",
    "highest_df.set_index('state')# to make state our index\n",
    "\n",
    "   "
   ]
  },
  {
   "cell_type": "markdown",
   "metadata": {},
   "source": [
    "### Findings\n",
    "The above shows the states with the highest of each category (e.g highest permit is North carolina, Washington has more private sales of handgun, long gun and even other guns e.t.c)"
   ]
  },
  {
   "cell_type": "markdown",
   "metadata": {},
   "source": [
    "### RSQ 2. What is the overall trend of gun purchases?\n",
    "\n",
    "The overall trend is that handguns are more purchased than any other gun , followed by long_guns as can be seen from our findings above"
   ]
  },
  {
   "cell_type": "markdown",
   "metadata": {},
   "source": [
    "### RQ3. What census data is most associated with high gun per capita"
   ]
  },
  {
   "cell_type": "code",
   "execution_count": 21,
   "metadata": {},
   "outputs": [
    {
     "name": "stdout",
     "output_type": "stream",
     "text": [
      "Gun percapita for july 2016 is 67.831131 per 10000 person.\n"
     ]
    }
   ],
   "source": [
    "# lets sum up all the Population estimates, July 1, 2016,  (V2016)\n",
    "#lets divide the total population by guns for month 2016-7\n",
    "#let gets the total for handguns, long  guns\n",
    "\n",
    "total_pop_july_2016 = census_data.iloc[0,2:].sum() #total population of all states as at july 2016\n",
    "\n",
    "total_guns_july_2016=gun_data.query('month == \"2016-07\"').totals.sum() #total sum of handguns(all states) as at july 2016\n",
    "\n",
    "gunpercapita=total_guns_july_2016/total_pop_july_2016\n",
    "gunpercapita=(gunpercapita*10000)\n",
    "gunpercapita_2016=gunpercapita\n",
    "print(\"Gun percapita for july 2016 is %f per 10000 person.\" % (gunpercapita))"
   ]
  },
  {
   "cell_type": "code",
   "execution_count": 22,
   "metadata": {},
   "outputs": [
    {
     "name": "stdout",
     "output_type": "stream",
     "text": [
      "Gun percapita for April 2010 is 39.809663 per 10000 person.\n"
     ]
    }
   ],
   "source": [
    "#let gets the total for handguns, long  guns\n",
    "\n",
    "total_pop_april_2010 = census_data.iloc[1,2:].sum() #total population of all states as at july 2016\n",
    "\n",
    "total_guns_april_2010 = gun_data.query('month == \"2010-04\"').totals.sum() #total sum of handguns(all states) as at july 2016\n",
    "\n",
    "gunpercapita=total_guns_april_2010/total_pop_april_2010\n",
    "gunpercapita=(gunpercapita*10000)\n",
    "gunpercapita_2010=gunpercapita\n",
    "print(\"Gun percapita for April 2010 is %f per 10000 person.\" % (gunpercapita))"
   ]
  },
  {
   "cell_type": "code",
   "execution_count": 23,
   "metadata": {},
   "outputs": [
    {
     "name": "stdout",
     "output_type": "stream",
     "text": [
      "we had 70.388608 percent increase in Gun percapita (per 10000 person) from April 2010 to July, 2016.\n"
     ]
    }
   ],
   "source": [
    "# let's get the percentage of increase of gun per capita from April 2010 to July, 2016.\n",
    "percentIncrese=((gunpercapita_2016 - gunpercapita_2010)/gunpercapita_2010) * 100\n",
    "print(\"we had %f percent increase in Gun percapita (per 10000 person) from April 2010 to July, 2016.\" % (percentIncrese))"
   ]
  },
  {
   "cell_type": "markdown",
   "metadata": {},
   "source": [
    "### Findings\n",
    "The above comparison between gun percapita for census data for April, 2010 and July, 2016 shows 2016 cenus data to have high gun percapita."
   ]
  },
  {
   "cell_type": "code",
   "execution_count": 24,
   "metadata": {},
   "outputs": [
    {
     "data": {
      "image/png": "[encoded data removed]",
      "text/plain": [
       "<matplotlib.figure.Figure at 0x7f62b8dfbb00>"
      ]
     },
     "metadata": {
      "needs_background": "light"
     },
     "output_type": "display_data"
    }
   ],
   "source": [
    "#Based on histograms of columns in this dataset, which of the following feature variables appear skewed to the right?\n",
    "gun_data.hist(figsize=(30,30))\n",
    "plt.show()"
   ]
  },
  {
   "cell_type": "markdown",
   "metadata": {},
   "source": [
    "### Observation\n",
    "The general histogram for the gun_data dataset shows handgun,long gun, pre_pawn_handgun, pre_pawn_long_gun, redemption_handgun, redemption_long_gun, return_hand_gun, return_long_gun, return_to_seller handgun and return_to_seller_longPgun to skew to the right."
   ]
  },
  {
   "cell_type": "markdown",
   "metadata": {},
   "source": [
    "### Single-variable (1d) and Multiple-variable (2d) explorations\n",
    "as suggegsted from the correction, we performed both 1D and 2d exporations"
   ]
  },
  {
   "cell_type": "code",
   "execution_count": null,
   "metadata": {},
   "outputs": [],
   "source": []
  },
  {
   "cell_type": "markdown",
   "metadata": {},
   "source": [
    "### Single-variable (1d)\n",
    "we will create a function a function for single variables"
   ]
  },
  {
   "cell_type": "code",
   "execution_count": 25,
   "metadata": {},
   "outputs": [],
   "source": [
    "#Single-variable (1d) using a function \n",
    "def oneDexplore_gun_data(dframe,colName,title,xlab,ylab):\n",
    "    dframe[colName].hist(figsize=(8,8))\n",
    "    plt.title(title, fontsize=16)\n",
    "    plt.ylabel(ylab,fontsize=16)\n",
    "    plt.xlabel(xlab, fontsize=16)\n",
    "    plt.show()\n",
    "    "
   ]
  },
  {
   "cell_type": "code",
   "execution_count": 26,
   "metadata": {},
   "outputs": [],
   "source": [
    "#function for two column historgram visualization\n",
    "def two_col_hist(df, title, col1,col2,xlab,ylab, xlab2,ylab2):\n",
    "    plt.hist(gun_data[col1], 25, facecolor='b', alpha=1, label=xlab2);\n",
    "    plt.hist(gun_data[col2], 25, facecolor='r', alpha=1, label=ylab2);\n",
    "    plt.legend()\n",
    "    plt.xlabel(xlab)\n",
    "    plt.ylabel(ylab)\n",
    "    plt.title(title)\n",
    "    plt.grid(True)"
   ]
  },
  {
   "cell_type": "code",
   "execution_count": 27,
   "metadata": {
    "scrolled": true
   },
   "outputs": [
    {
     "data": {
      "image/png": "[encoded data removed]",
      "text/plain": [
       "<matplotlib.figure.Figure at 0x7f62b8dfb7f0>"
      ]
     },
     "metadata": {
      "needs_background": "light"
     },
     "output_type": "display_data"
    }
   ],
   "source": [
    "two_col_hist(gun_data,'Histogram','long_gun','handgun','gun','pop of people', 'long gun','Hand gun')"
   ]
  },
  {
   "cell_type": "markdown",
   "metadata": {},
   "source": [
    "A histogram of long gun and hand gun for visualization"
   ]
  },
  {
   "cell_type": "code",
   "execution_count": 53,
   "metadata": {},
   "outputs": [
    {
     "data": {
      "image/png": "[encoded data removed]",
      "text/plain": [
       "<matplotlib.figure.Figure at 0x7f62af733160>"
      ]
     },
     "metadata": {
      "needs_background": "light"
     },
     "output_type": "display_data"
    }
   ],
   "source": [
    "two_col_hist(gun_data,'Histogram','permit','permit_recheck','permits','pop of people', 'permit','permit recheck')"
   ]
  },
  {
   "cell_type": "markdown",
   "metadata": {},
   "source": [
    "A histogram for permit and permit recheck"
   ]
  },
  {
   "cell_type": "code",
   "execution_count": 56,
   "metadata": {},
   "outputs": [
    {
     "data": {
      "image/png": "[encoded data removed]",
      "text/plain": [
       "<matplotlib.figure.Figure at 0x7f62b48ff7f0>"
      ]
     },
     "metadata": {
      "needs_background": "light"
     },
     "output_type": "display_data"
    }
   ],
   "source": [
    "#using our 1d exploration to plot a histogram for permits\n",
    "oneDexplore_gun_data(gun_data,'permit','Histogram of permits','Permits','populatoin of gun users')"
   ]
  },
  {
   "cell_type": "markdown",
   "metadata": {},
   "source": [
    "The above shows a historgram of permits and 0 to 50,000 guns had no permits"
   ]
  },
  {
   "cell_type": "code",
   "execution_count": 57,
   "metadata": {},
   "outputs": [
    {
     "data": {
      "image/png": "[encoded data removed]",
      "text/plain": [
       "<matplotlib.figure.Figure at 0x7f62b62c74e0>"
      ]
     },
     "metadata": {
      "needs_background": "light"
     },
     "output_type": "display_data"
    }
   ],
   "source": [
    "#using our 1d exploration to plot a histogram for handgun\n",
    "oneDexplore_gun_data(gun_data,'handgun','Histogram of Handguns','handguns','population of gun users')"
   ]
  },
  {
   "cell_type": "markdown",
   "metadata": {},
   "source": [
    "The above shows a historgram of handguns and between 10,000 to about 21,000 handguns had about 6000 owners/users"
   ]
  },
  {
   "cell_type": "code",
   "execution_count": 58,
   "metadata": {},
   "outputs": [],
   "source": [
    "#Multiple-variable (2d) explorations\n",
    "#we created a function(making it 2nd as requried from correction) to plot 2d variables\n",
    "def twoDexplore_gun_data(dframe,x,y,title,xlab,ylab):\n",
    "    sns.regplot(data=dframe,x=x,y=y)\n",
    "    plt.title(title, fontsize=16)\n",
    "    plt.ylabel(ylab,fontsize=16)\n",
    "    plt.xlabel(xlab, fontsize=16)"
   ]
  },
  {
   "cell_type": "code",
   "execution_count": 59,
   "metadata": {},
   "outputs": [
    {
     "data": {
      "image/png": "[encoded data removed]",
      "text/plain": [
       "<matplotlib.figure.Figure at 0x7f62b48afcc0>"
      ]
     },
     "metadata": {
      "needs_background": "light"
     },
     "output_type": "display_data"
    }
   ],
   "source": [
    "#calling our function to compare relationship between handgun usage and permit\n",
    "twoDexplore_gun_data(gun_data,'handgun','permit','Handguns vs permit ','handguns','permits')"
   ]
  },
  {
   "cell_type": "markdown",
   "metadata": {},
   "source": [
    "The above shows some linear relationship between handgun and permits with positive relationship"
   ]
  },
  {
   "cell_type": "code",
   "execution_count": 60,
   "metadata": {},
   "outputs": [
    {
     "data": {
      "image/png": "[encoded data removed]",
      "text/plain": [
       "<matplotlib.figure.Figure at 0x7f62b47d28d0>"
      ]
     },
     "metadata": {
      "needs_background": "light"
     },
     "output_type": "display_data"
    }
   ],
   "source": [
    "#calling our function to compare relationship between handgun usage and private hand gun sales\n",
    "twoDexplore_gun_data(gun_data,'handgun','private_sale_handgun','Handgun vs private_sale_handgun ','handguns','private sale handgun')"
   ]
  },
  {
   "cell_type": "markdown",
   "metadata": {},
   "source": [
    "The above shows as Handguns usage increased, private sale of handgun increased at the begining, but later increased less."
   ]
  },
  {
   "cell_type": "code",
   "execution_count": 61,
   "metadata": {},
   "outputs": [
    {
     "data": {
      "image/png": "[encoded data removed]",
      "text/plain": [
       "<matplotlib.figure.Figure at 0x7f62b483f080>"
      ]
     },
     "metadata": {
      "needs_background": "light"
     },
     "output_type": "display_data"
    }
   ],
   "source": [
    "#calling our function to compare relationship between redemption handgun usage and Redemption Long Guns\n",
    "twoDexplore_gun_data(gun_data,'redemption_handgun','redemption_long_gun','Redemption Handguns vs Redemption Long Guns ','Redemption Handguns','Redemption Long Guns')"
   ]
  },
  {
   "cell_type": "markdown",
   "metadata": {},
   "source": [
    "The above shows Redemption Handguns and  Redemption Long Guns have a positive correlation"
   ]
  },
  {
   "cell_type": "markdown",
   "metadata": {},
   "source": [
    "<a id='conclusions'></a>\n",
    "## Conclusions\n",
    "\n",
    "### Result:Our data suggest that\n",
    "- 1. Gun percapita for july 2016 is 67.831131 per 10000 person.\n",
    "- 2. Gun percapita for April 2010 is 39.809663 per 10000 person.\n",
    "- 3. There was  70.4% increase in Gun percapita (per 10000 person) from April 2010 to July, 2016.\n",
    "- 4. North carolina to have the highest permits from 1998-11 to 2017-9\n",
    "- 5. Washington had more private guns(handgun, long gun and others) in total within that same period\n",
    "- 6. Texas had the highest for hand gun and long guns. which means they use these guns alot more than other gun types\n",
    "\n",
    "\n",
    "### Limitation\n",
    "\n",
    "#### Gun_data dataset\n",
    "- 1. The gun_data dataset contained missing data \n",
    "- 2. The gun_data datset contained null and missing values especially from 1998 to 2013 for the \n",
    "\n",
    "#### census_data dataset\n",
    "- 1. The census_data dataset contains inconsistent data. e.g having the letter D in columns with numeric data.\n",
    "- 2. The census_data dataset is not organized and require so much time to understand it\n",
    "- 3. The gun_data datset contained null and missing values especially for 1998 to 2012 for t\n",
    "- 4. Some parts of the census_data dataset was Suppressed to avoid disclosure of confidential information\n",
    "- 5. Column wise, the data has inconsistent format, like having percentage(%), decimals and quotes which was tough for conversion\n",
    "\n",
    "\n",
    "## Important Notes (against plagiarism)\n",
    "i used stackoverflow where i faced some errors or difficulties. Google search was used to get the formula for per capita but no code was present, just the formula. i consulted geekforgeeks website to understand some more of panda frames.\n",
    "\n",
    "## Submitting your Project \n",
    "\n",
    "> **Tip**: Before you submit your project, you need to create a .html or .pdf version of this notebook in the workspace here. To do that, run the code cell below. If it worked correctly, you should get a return code of 0, and you should see the generated .html file in the workspace directory (click on the orange Jupyter icon in the upper left).\n",
    "\n",
    "> **Tip**: Alternatively, you can download this report as .html via the **File** > **Download as** submenu, and then manually upload it into the workspace directory by clicking on the orange Jupyter icon in the upper left, then using the Upload button.\n",
    "\n",
    "> **Tip**: Once you've done this, you can submit your project by clicking on the \"Submit Project\" button in the lower right here. This will create and submit a zip file with this .ipynb doc and the .html or .pdf version you created. Congratulations!"
   ]
  },
  {
   "cell_type": "code",
   "execution_count": null,
   "metadata": {},
   "outputs": [],
   "source": []
  },
  {
   "cell_type": "code",
   "execution_count": 62,
   "metadata": {},
   "outputs": [
    {
     "data": {
      "text/plain": [
       "0"
      ]
     },
     "execution_count": 62,
     "metadata": {},
     "output_type": "execute_result"
    }
   ],
   "source": [
    "from subprocess import call\n",
    "call(['python', '-m', 'nbconvert', 'Investigate_a_Dataset.ipynb'])"
   ]
  },
  {
   "cell_type": "code",
   "execution_count": null,
   "metadata": {},
   "outputs": [],
   "source": []
  },
  {
   "cell_type": "code",
   "execution_count": null,
   "metadata": {},
   "outputs": [],
   "source": []
  }
 ],
 "metadata": {
  "kernelspec": {
   "display_name": "Python 3",
   "language": "python",
   "name": "python3"
  },
  "language_info": {
   "codemirror_mode": {
    "name": "ipython",
    "version": 3
   },
   "file_extension": ".py",
   "mimetype": "text/x-python",
   "name": "python",
   "nbconvert_exporter": "python",
   "pygments_lexer": "ipython3",
   "version": "3.6.3"
  }
 },
 "nbformat": 4,
 "nbformat_minor": 2
}
